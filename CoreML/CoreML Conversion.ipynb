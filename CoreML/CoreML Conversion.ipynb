{
 "cells": [
  {
   "cell_type": "code",
   "execution_count": 1,
   "metadata": {
    "collapsed": false,
    "deletable": true,
    "editable": true
   },
   "outputs": [],
   "source": [
    "import numpy as np\n",
    "import pandas as pd"
   ]
  },
  {
   "cell_type": "markdown",
   "metadata": {
    "deletable": true,
    "editable": true
   },
   "source": [
    "### Load Data Set and EDA"
   ]
  },
  {
   "cell_type": "code",
   "execution_count": 2,
   "metadata": {
    "collapsed": false,
    "deletable": true,
    "editable": true
   },
   "outputs": [],
   "source": [
    "#labeled data http://www.dt.fee.unicamp.br/~tiago/smsspamcollection/\n",
    "\n",
    "# Reading in and parsing data\n",
    "raw_data = open('SMSSpamCollection.txt', 'r')\n",
    "sms_data = []\n",
    "for line in raw_data:\n",
    "    split_line = line.split(\"\\t\")\n",
    "    sms_data.append(split_line)\n",
    "\n",
    "# Splitting data into messages and labels and training and test\n",
    "sms_data = np.array(sms_data)\n",
    "X = sms_data[:, 1]\n",
    "y = sms_data[:, 0]"
   ]
  },
  {
   "cell_type": "code",
   "execution_count": 3,
   "metadata": {
    "collapsed": false,
    "deletable": true,
    "editable": true
   },
   "outputs": [
    {
     "data": {
      "text/plain": [
       "array([ 'Go until jurong point, crazy.. Available only in bugis n great world la e buffet... Cine there got amore wat...\\n',\n",
       "       'Ok lar... Joking wif u oni...\\n',\n",
       "       \"Free entry in 2 a wkly comp to win FA Cup final tkts 21st May 2005. Text FA to 87121 to receive entry question(std txt rate)T&C's apply 08452810075over18's\\n\",\n",
       "       ..., 'Pity, * was in mood for that. So...any other suggestions?\\n',\n",
       "       \"The guy did some bitching but I acted like i'd be interested in buying something else next week and he gave it to us for free\\n\",\n",
       "       'Rofl. Its true to its name\\n'],\n",
       "      dtype='|S911')"
      ]
     },
     "execution_count": 3,
     "metadata": {},
     "output_type": "execute_result"
    }
   ],
   "source": [
    "X"
   ]
  },
  {
   "cell_type": "code",
   "execution_count": 4,
   "metadata": {
    "collapsed": false,
    "deletable": true,
    "editable": true
   },
   "outputs": [
    {
     "name": "stdout",
     "output_type": "stream",
     "text": [
      "(5574, 2)\n"
     ]
    }
   ],
   "source": [
    "print sms_data.shape"
   ]
  },
  {
   "cell_type": "markdown",
   "metadata": {
    "deletable": true,
    "editable": true
   },
   "source": [
    "### Build a Linear SVC model"
   ]
  },
  {
   "cell_type": "code",
   "execution_count": 10,
   "metadata": {
    "collapsed": false,
    "deletable": true,
    "editable": true
   },
   "outputs": [
    {
     "name": "stdout",
     "output_type": "stream",
     "text": [
      "['spam']\n"
     ]
    },
    {
     "name": "stderr",
     "output_type": "stream",
     "text": [
      "/usr/local/Cellar/python/2.7.12_2/Frameworks/Python.framework/Versions/2.7/lib/python2.7/json/encoder.py:207: DeprecationWarning: Interpreting naive datetime as local 2017-09-22 16:30:08.675746. Please add timezone info to timestamps.\n",
      "  chunks = self.iterencode(o, _one_shot=True)\n"
     ]
    }
   ],
   "source": [
    "from sklearn.feature_extraction.text import TfidfVectorizer\n",
    "from sklearn.svm import LinearSVC\n",
    "\n",
    "#Build vectorized representation of data\n",
    "vectorizer = TfidfVectorizer()\n",
    "vectorized_text = vectorizer.fit_transform(X)\n",
    "\n",
    "text_clf = LinearSVC()\n",
    "text_clf = text_clf.fit(vectorized_text, y)\n",
    "\n",
    "print text_clf.predict(vectorizer.transform([\"\"\"XXXMobileMovieClub: To use your credit, \n",
    "click the WAP link in the next txt message or click here>> \n",
    "http://wap. xxxmobilemovieclub.com?n=QJKGIGHJJGCBL\"\"\"]))"
   ]
  },
  {
   "cell_type": "markdown",
   "metadata": {
    "deletable": true,
    "editable": true
   },
   "source": [
    "### Cross - Validation"
   ]
  },
  {
   "cell_type": "code",
   "execution_count": 6,
   "metadata": {
    "collapsed": false,
    "deletable": true,
    "editable": true
   },
   "outputs": [
    {
     "name": "stdout",
     "output_type": "stream",
     "text": [
      "[ 0.99103943  0.97491039  0.98387097  0.9874552   0.97849462  0.98387097\n",
      "  0.98387097  0.98201439  0.98561151  0.98561151]\n",
      "mean: 0.983674995487\n"
     ]
    }
   ],
   "source": [
    "from sklearn.model_selection import cross_val_score\n",
    "\n",
    "cross_score = cross_val_score(text_clf, vectorized_text, y, cv=10)\n",
    "print cross_score\n",
    "print \"mean:\",np.mean(cross_score)"
   ]
  },
  {
   "cell_type": "markdown",
   "metadata": {
    "deletable": true,
    "editable": true
   },
   "source": [
    "### Converting to CoreML '.mlmodel'"
   ]
  },
  {
   "cell_type": "code",
   "execution_count": 11,
   "metadata": {
    "collapsed": false,
    "deletable": true,
    "editable": true
   },
   "outputs": [
    {
     "name": "stderr",
     "output_type": "stream",
     "text": [
      "/usr/local/Cellar/python/2.7.12_2/Frameworks/Python.framework/Versions/2.7/lib/python2.7/json/encoder.py:207: DeprecationWarning: Interpreting naive datetime as local 2017-09-22 16:31:39.348827. Please add timezone info to timestamps.\n",
      "  chunks = self.iterencode(o, _one_shot=True)\n"
     ]
    }
   ],
   "source": [
    "import coremltools\n",
    "\n",
    "#convert to coreml model\n",
    "coreml_model = coremltools.converters.sklearn.convert(text_clf, \"message\", \"spam_or_not\")\n",
    "\n",
    "#set parameters of the model\n",
    "coreml_model.short_description = \"Classify whether message is spam or not\"\n",
    "coreml_model.input_description[\"message\"] = \"TFIDF of message to be classified\"\n",
    "coreml_model.output_description[\"spam_or_not\"] = \"Whether message is spam or not\"\n",
    "\n",
    "coreml_model.save(\"SpamMessageClassifier.mlmodel\")"
   ]
  },
  {
   "cell_type": "markdown",
   "metadata": {
    "deletable": true,
    "editable": true
   },
   "source": [
    "### Saving the list of words for TF-IDF"
   ]
  },
  {
   "cell_type": "code",
   "execution_count": 8,
   "metadata": {
    "collapsed": false,
    "deletable": true,
    "editable": true
   },
   "outputs": [
    {
     "name": "stderr",
     "output_type": "stream",
     "text": [
      "/usr/local/Cellar/python/2.7.12_2/Frameworks/Python.framework/Versions/2.7/lib/python2.7/json/encoder.py:207: DeprecationWarning: Interpreting naive datetime as local 2017-09-22 16:29:07.871627. Please add timezone info to timestamps.\n",
      "  chunks = self.iterencode(o, _one_shot=True)\n"
     ]
    }
   ],
   "source": [
    "with open(\"wordlist.txt\", \"w\") as fp:\n",
    "    for word in vectorizer.get_feature_names():\n",
    "        fp.write(word.encode('utf-8') + '\\n')\n",
    "    "
   ]
  }
 ],
 "metadata": {
  "kernelspec": {
   "display_name": "Python 2",
   "language": "python",
   "name": "python2"
  },
  "language_info": {
   "codemirror_mode": {
    "name": "ipython",
    "version": 2
   },
   "file_extension": ".py",
   "mimetype": "text/x-python",
   "name": "python",
   "nbconvert_exporter": "python",
   "pygments_lexer": "ipython2",
   "version": "2.7.12"
  }
 },
 "nbformat": 4,
 "nbformat_minor": 2
}
